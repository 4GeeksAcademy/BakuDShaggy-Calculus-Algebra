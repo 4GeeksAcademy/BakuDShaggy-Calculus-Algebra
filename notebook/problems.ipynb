{
 "cells": [
  {
   "cell_type": "markdown",
   "id": "5dbe7b9e",
   "metadata": {},
   "source": [
    "# Calculus and Algebra problems"
   ]
  },
  {
   "cell_type": "markdown",
   "id": "519c4b12",
   "metadata": {},
   "source": [
    "## Calculus\n",
    "\n",
    "Calculus is not obscure. It is the language for modeling behaviors. Calculus enables us to find the rate of changes in order to optimize a function. Without calculus, we would not be able to fully understand techniques such as:\n",
    "\n",
    "Backpropagation in neural networks\n",
    "\n",
    "Regression using optimal least square\n",
    "\n",
    "Expectation maximization in fitting probability models"
   ]
  },
  {
   "cell_type": "markdown",
   "id": "b7e2e87a",
   "metadata": {},
   "source": [
    "### Exercise 1\n",
    "\n",
    "Let's say, in my office, it takes me 10 seconds (time) to travel 25 meters (distance) to the coffee machine.\n",
    "If we want to express the above situation as a function, then it would be:\n",
    "\n",
    "distance = speed * time\n",
    "\n",
    "So for this case, speed is the first derivative of the distance function above. As speed describes the rate of change of distance over time, when people say taking the first derivative of a certain function, they mean finding out the rate of change of a function.\n",
    "\n",
    "**Find the speed and build the linear function on distance $(d)$ over time $(t)$, when $(t ∈ [0,10])$.**"
   ]
  },
  {
   "cell_type": "code",
   "execution_count": 93,
   "id": "bb3e954e",
   "metadata": {},
   "outputs": [],
   "source": [
    "# import libraries\n",
    "import numpy as np\n",
    "from matplotlib import pyplot as plt\n",
    "import pandas as pd\n",
    "\n",
    "speed = 25/10\n",
    "\n",
    "# Define the distance function\n",
    "def distance(speed, t):\n",
    "    d = speed*t\n",
    "    return d"
   ]
  },
  {
   "cell_type": "code",
   "execution_count": 94,
   "id": "dbc4c780",
   "metadata": {},
   "outputs": [
    {
     "data": {
      "image/png": "[encoded data removed]",
      "text/plain": [
       "<Figure size 640x480 with 1 Axes>"
      ]
     },
     "metadata": {},
     "output_type": "display_data"
    }
   ],
   "source": [
    "# Plot the distance function on domain (t)\n",
    "t_array = np.linspace(0,10,11)\n",
    "\n",
    "plt.plot(t_array,\n",
    "         distance(speed, t_array),\n",
    "         label = '$distance\\ (d)$')\n",
    "plt.legend(loc= 'best',\n",
    "           frameon=False)\n",
    "plt.show()"
   ]
  },
  {
   "cell_type": "code",
   "execution_count": 95,
   "id": "4c4d4f20",
   "metadata": {},
   "outputs": [
    {
     "data": {
      "text/html": [
       "<div>\n",
       "<style scoped>\n",
       "    .dataframe tbody tr th:only-of-type {\n",
       "        vertical-align: middle;\n",
       "    }\n",
       "\n",
       "    .dataframe tbody tr th {\n",
       "        vertical-align: top;\n",
       "    }\n",
       "\n",
       "    .dataframe thead th {\n",
       "        text-align: right;\n",
       "    }\n",
       "</style>\n",
       "<table border=\"1\" class=\"dataframe\">\n",
       "  <thead>\n",
       "    <tr style=\"text-align: right;\">\n",
       "      <th></th>\n",
       "      <th>time (s)</th>\n",
       "      <th>distance (m)</th>\n",
       "    </tr>\n",
       "  </thead>\n",
       "  <tbody>\n",
       "    <tr>\n",
       "      <th>0</th>\n",
       "      <td>0.0</td>\n",
       "      <td>0.0</td>\n",
       "    </tr>\n",
       "    <tr>\n",
       "      <th>1</th>\n",
       "      <td>1.0</td>\n",
       "      <td>2.5</td>\n",
       "    </tr>\n",
       "    <tr>\n",
       "      <th>2</th>\n",
       "      <td>2.0</td>\n",
       "      <td>5.0</td>\n",
       "    </tr>\n",
       "    <tr>\n",
       "      <th>3</th>\n",
       "      <td>3.0</td>\n",
       "      <td>7.5</td>\n",
       "    </tr>\n",
       "    <tr>\n",
       "      <th>4</th>\n",
       "      <td>4.0</td>\n",
       "      <td>10.0</td>\n",
       "    </tr>\n",
       "    <tr>\n",
       "      <th>5</th>\n",
       "      <td>5.0</td>\n",
       "      <td>12.5</td>\n",
       "    </tr>\n",
       "    <tr>\n",
       "      <th>6</th>\n",
       "      <td>6.0</td>\n",
       "      <td>15.0</td>\n",
       "    </tr>\n",
       "    <tr>\n",
       "      <th>7</th>\n",
       "      <td>7.0</td>\n",
       "      <td>17.5</td>\n",
       "    </tr>\n",
       "    <tr>\n",
       "      <th>8</th>\n",
       "      <td>8.0</td>\n",
       "      <td>20.0</td>\n",
       "    </tr>\n",
       "    <tr>\n",
       "      <th>9</th>\n",
       "      <td>9.0</td>\n",
       "      <td>22.5</td>\n",
       "    </tr>\n",
       "    <tr>\n",
       "      <th>10</th>\n",
       "      <td>10.0</td>\n",
       "      <td>25.0</td>\n",
       "    </tr>\n",
       "  </tbody>\n",
       "</table>\n",
       "</div>"
      ],
      "text/plain": [
       "    time (s)  distance (m)\n",
       "0        0.0           0.0\n",
       "1        1.0           2.5\n",
       "2        2.0           5.0\n",
       "3        3.0           7.5\n",
       "4        4.0          10.0\n",
       "5        5.0          12.5\n",
       "6        6.0          15.0\n",
       "7        7.0          17.5\n",
       "8        8.0          20.0\n",
       "9        9.0          22.5\n",
       "10      10.0          25.0"
      ]
     },
     "execution_count": 95,
     "metadata": {},
     "output_type": "execute_result"
    }
   ],
   "source": [
    "# Create a DataFrame\n",
    "d_array = []\n",
    "for t in t_array:\n",
    "    d_array.append(distance(speed, t))\n",
    "\n",
    "data_dict = {'time (s)':t_array,\n",
    "             'distance (m)': d_array}\n",
    "\n",
    "d_df = pd.DataFrame(data_dict)\n",
    "d_df"
   ]
  },
  {
   "cell_type": "markdown",
   "id": "1144168d",
   "metadata": {},
   "source": [
    "### Exercise 2\n",
    "\n",
    "It turned out that I wasn't walking a constant speed towards getting my coffee, but I was accelerating (my speed increased over time). If my initial *speed = 0*, it still took me 10 seconds to travel from my seat to my coffee, but I was walking faster and faster.\n",
    "\n",
    "$V_o$ = initial speed = $0$\n",
    "\n",
    "t = time\n",
    "\n",
    "a = acceleration\n",
    "\n",
    "**distance** = $V_o * t + 0.5 * a * (t^2)$\n",
    "\n",
    "**speed** = $V_o + a * t$\n",
    "\n",
    "The first derivative of the speed function is acceleration. I realize that the speed function is closely related to the distance function.\n",
    "\n",
    "**Find the acceleration value and build the quadratic function  $(t ∈ [0,10])$. Also, create a graph and a table.**"
   ]
  },
  {
   "cell_type": "code",
   "execution_count": 96,
   "id": "ec1f8bd7",
   "metadata": {},
   "outputs": [
    {
     "data": {
      "image/png": "[encoded data removed]",
      "text/plain": [
       "<Figure size 640x480 with 1 Axes>"
      ]
     },
     "metadata": {},
     "output_type": "display_data"
    }
   ],
   "source": [
    "# Define and plot the quadratic funtion\n",
    "\n",
    "d = 25\n",
    "Vo = 0\n",
    "final_t = 10\n",
    "a = (d - Vo*final_t)/(0.5 * final_t**2)\n",
    "\n",
    "def distance_2(Vo, t, a):\n",
    "    d = Vo*t + 0.5 * a * (t**2)\n",
    "    return d\n",
    "\n",
    "plt.plot(t_array,\n",
    "         distance_2(Vo, t_array, a),\n",
    "         label ='$accelerated\\ distance\\ (d)$')\n",
    "plt.legend(loc='best',\n",
    "           frameon=False)\n",
    "plt.show()"
   ]
  },
  {
   "cell_type": "code",
   "execution_count": 97,
   "id": "ba5c497b",
   "metadata": {},
   "outputs": [
    {
     "data": {
      "text/html": [
       "<div>\n",
       "<style scoped>\n",
       "    .dataframe tbody tr th:only-of-type {\n",
       "        vertical-align: middle;\n",
       "    }\n",
       "\n",
       "    .dataframe tbody tr th {\n",
       "        vertical-align: top;\n",
       "    }\n",
       "\n",
       "    .dataframe thead th {\n",
       "        text-align: right;\n",
       "    }\n",
       "</style>\n",
       "<table border=\"1\" class=\"dataframe\">\n",
       "  <thead>\n",
       "    <tr style=\"text-align: right;\">\n",
       "      <th></th>\n",
       "      <th>time (s)</th>\n",
       "      <th>speed (m/s)</th>\n",
       "      <th>d (m)</th>\n",
       "    </tr>\n",
       "  </thead>\n",
       "  <tbody>\n",
       "    <tr>\n",
       "      <th>0</th>\n",
       "      <td>0.0</td>\n",
       "      <td>0.0</td>\n",
       "      <td>0.00</td>\n",
       "    </tr>\n",
       "    <tr>\n",
       "      <th>1</th>\n",
       "      <td>1.0</td>\n",
       "      <td>0.5</td>\n",
       "      <td>0.25</td>\n",
       "    </tr>\n",
       "    <tr>\n",
       "      <th>2</th>\n",
       "      <td>2.0</td>\n",
       "      <td>1.5</td>\n",
       "      <td>1.00</td>\n",
       "    </tr>\n",
       "    <tr>\n",
       "      <th>3</th>\n",
       "      <td>3.0</td>\n",
       "      <td>3.0</td>\n",
       "      <td>2.25</td>\n",
       "    </tr>\n",
       "    <tr>\n",
       "      <th>4</th>\n",
       "      <td>4.0</td>\n",
       "      <td>5.0</td>\n",
       "      <td>4.00</td>\n",
       "    </tr>\n",
       "    <tr>\n",
       "      <th>5</th>\n",
       "      <td>5.0</td>\n",
       "      <td>7.5</td>\n",
       "      <td>6.25</td>\n",
       "    </tr>\n",
       "    <tr>\n",
       "      <th>6</th>\n",
       "      <td>6.0</td>\n",
       "      <td>10.5</td>\n",
       "      <td>9.00</td>\n",
       "    </tr>\n",
       "    <tr>\n",
       "      <th>7</th>\n",
       "      <td>7.0</td>\n",
       "      <td>14.0</td>\n",
       "      <td>12.25</td>\n",
       "    </tr>\n",
       "    <tr>\n",
       "      <th>8</th>\n",
       "      <td>8.0</td>\n",
       "      <td>18.0</td>\n",
       "      <td>16.00</td>\n",
       "    </tr>\n",
       "    <tr>\n",
       "      <th>9</th>\n",
       "      <td>9.0</td>\n",
       "      <td>22.5</td>\n",
       "      <td>20.25</td>\n",
       "    </tr>\n",
       "    <tr>\n",
       "      <th>10</th>\n",
       "      <td>10.0</td>\n",
       "      <td>27.5</td>\n",
       "      <td>25.00</td>\n",
       "    </tr>\n",
       "  </tbody>\n",
       "</table>\n",
       "</div>"
      ],
      "text/plain": [
       "    time (s)  speed (m/s)  d (m)\n",
       "0        0.0          0.0   0.00\n",
       "1        1.0          0.5   0.25\n",
       "2        2.0          1.5   1.00\n",
       "3        3.0          3.0   2.25\n",
       "4        4.0          5.0   4.00\n",
       "5        5.0          7.5   6.25\n",
       "6        6.0         10.5   9.00\n",
       "7        7.0         14.0  12.25\n",
       "8        8.0         18.0  16.00\n",
       "9        9.0         22.5  20.25\n",
       "10      10.0         27.5  25.00"
      ]
     },
     "execution_count": 97,
     "metadata": {},
     "output_type": "execute_result"
    }
   ],
   "source": [
    "# Create a DataFrame\n",
    "speed_array = []\n",
    "for t in t_array:\n",
    "    Vi = Vo + a*t\n",
    "    speed_array.append(Vi)\n",
    "    Vo = Vi\n",
    "\n",
    "accelerated_d_array = []\n",
    "for t in t_array:\n",
    "    Vo = 0\n",
    "    d = Vo*t + (0.5 * a * t**2)\n",
    "    accelerated_d_array.append(d)\n",
    "\n",
    "accelerated_data_dict = {'time (s)':t_array, 'speed (m/s)': speed_array, 'd (m)':accelerated_d_array}\n",
    "accelerated_df = pd.DataFrame(accelerated_data_dict)\n",
    "accelerated_df"
   ]
  },
  {
   "cell_type": "markdown",
   "id": "66d4cc18",
   "metadata": {},
   "source": [
    "Before exercise 3, we'll make a brief introduction to Gradient Descent algorithm, which will have a larger explanation in future modules of the bootcamp.\n",
    "\n",
    "Gradient Descent algorithm is the hero behind the family of deep learning algorithms. When an algorithm in this family runs, it tries to minimize the error between the training input and predicted output. This minimization is done by optimization algorithms, and gradient descent is the most popular one.\n",
    "\n",
    "Let's say you have these input & output pairs:\n",
    "\n",
    "```py\n",
    "# Input:\n",
    "[\n",
    " [1,2],\n",
    " [3,4]\n",
    "]\n",
    "\n",
    "# Output:\n",
    "[\n",
    " [50],\n",
    " [110]\n",
    "]\n",
    "```\n",
    "\n",
    "We can estimate that if we multiply the input values by [10, 20], we can have the output as shown above.\n",
    "\n",
    "```py\n",
    "1(10) + 2(20) = 50\n",
    "\n",
    "3(10) + 4(20) = 110\n",
    "```\n",
    "\n",
    "When a machine learning algorithm starts running, it assigns random values and makes a prediction. \n",
    "Let's say it assigned [1,2] values:\n",
    "\n",
    "```py\n",
    "1(1) + 2(2) = 5\n",
    "\n",
    "3(1) + 4(2) = 11\n",
    "```\n",
    "\n",
    "Once it has the predictions, it calculates the error: the difference between the real data and the predicted data. There are many ways to calculate the error, and they are called loss functions.\n",
    "\n",
    "Once we have this value, the optimization algorithm starts showing itself, and it sets new values which replace the initial random values. \n",
    "\n",
    "And, the loop continues until a condition is met. That condition can be to loop *n* times, or to loop until the error is smaller than a value."
   ]
  },
  {
   "cell_type": "markdown",
   "id": "85ef2f0b",
   "metadata": {},
   "source": [
    "It can be hard to understand **gradient descent** without understanding **gradient**. So, let's focus on what a gradient is. The gradient shows the direction of the greatest change of a scalar function. The gradient calculation is done with derivatives, so let's start with a simple example. To calculate the gradient, we just need to remember some linear algebra calculations from high school because we need to calculate derivatives.\n",
    "\n",
    "Let's say we want to find the minimum point of $f(x) = x^2$. The derivative of that function is $df(x)=2x$. \n",
    "\n",
    "The gradient of $f(x)$ at point $x=-10$\n",
    "\n",
    "is \n",
    "\n",
    "$df(-10)=-20$.\n",
    "\n",
    "The gradient of $f(x)$ at point $x=1$\n",
    "\n",
    "is \n",
    "\n",
    "$df(1)=2$.\n",
    "\n",
    "Now let’s visualize $f(x)$ and those $x=-10$ and $x=1$ points."
   ]
  },
  {
   "cell_type": "code",
   "execution_count": 98,
   "id": "4ff7e11a",
   "metadata": {},
   "outputs": [],
   "source": [
    "import numpy as np\n",
    "import seaborn as sns\n",
    "\n",
    "def f(x):\n",
    "    return x**2\n",
    "\n",
    "def df(x):\n",
    "    return 2*x\n",
    "\n",
    "def visualize(f, x=None):\n",
    "    \n",
    "    xArray = np.linspace(-10, 10, 100) \n",
    "    yArray = f(xArray)\n",
    "    sns.lineplot(x=xArray, y=yArray)\n",
    "    \n",
    "    if x is not None:\n",
    "        assert type(x) in [np.ndarray, list] # x should be numpy array or list\n",
    "        if type(x) is list: # if it is a list, convert to numpy array\n",
    "            x = np.array(x)\n",
    "\n",
    "            \n",
    "        y = f(x)\n",
    "        sns.scatterplot(x=x, y=y, color='red')"
   ]
  },
  {
   "cell_type": "code",
   "execution_count": 99,
   "id": "633a54fd",
   "metadata": {},
   "outputs": [
    {
     "data": {
      "image/png": "[encoded data removed]",
      "text/plain": [
       "<Figure size 640x480 with 1 Axes>"
      ]
     },
     "metadata": {},
     "output_type": "display_data"
    }
   ],
   "source": [
    "visualize(f, x=[-10, 1])"
   ]
  },
  {
   "cell_type": "markdown",
   "id": "9c187ad7",
   "metadata": {},
   "source": [
    "The red dot at x=-10 does not know the surface it stands on, and it only knows the coordinates of where it stands and the gradient of itself, which is -20. And the other red dot at x=1 does not know the surface it stands on; it only knows the coordinates of where it stands and the gradient of itself, which is 2.\n",
    "\n",
    "By having only this information: we can say that the red dot at x=-10 should make a bigger jump than x=1 because it has a bigger absolute gradient value. The sign shows the direction. Minus (-) shows that the red dot at x=-10 should move to the right and the other one should move to the left.\n",
    "\n",
    "In summary, the red dot at x=-10 (gradient: -20) should make a bigger jump to the right, and the red dot at x=1 (gradient: 2) should make a smaller jump to the left. \n",
    "\n",
    "We know that the jump length should be proportional to the gradient, but what is that value exactly? We don’t know. So, let’s just say that red points should move with the length of *alpha * gradient*, where alpha is just a parameter.\n",
    "\n",
    "We can say that the new location of the red dot should be calculated with the following formula:\n",
    "\n",
    "x = x - gradient * alpha"
   ]
  },
  {
   "cell_type": "markdown",
   "id": "0a7f5c3f",
   "metadata": {},
   "source": [
    "Now let's implement this with **NumPy**. Let's start with visualizing the $f(x)=x^2$ function and the $x=-10$ point."
   ]
  },
  {
   "cell_type": "code",
   "execution_count": 100,
   "id": "e26dbdf0",
   "metadata": {},
   "outputs": [
    {
     "data": {
      "image/png": "[encoded data removed]",
      "text/plain": [
       "<Figure size 640x480 with 1 Axes>"
      ]
     },
     "metadata": {},
     "output_type": "display_data"
    }
   ],
   "source": [
    "visualize(f, x=[-10])"
   ]
  },
  {
   "cell_type": "markdown",
   "id": "6e752e19",
   "metadata": {},
   "source": [
    "The following code implements the whole logic explained before:"
   ]
  },
  {
   "cell_type": "code",
   "execution_count": 101,
   "id": "2bdd54f1",
   "metadata": {},
   "outputs": [],
   "source": [
    "def gradient_descent(x, nsteps=1):\n",
    "    \n",
    "    \n",
    "    # collectXs is an array to store how x changed in each iteration, so we can visualize it later\n",
    "    \n",
    "    collectXs = [x]\n",
    "    \n",
    "    # learning_rate is the value that we mentioned as alpha in the previous section\n",
    "    \n",
    "    learning_rate = 1e-01\n",
    "    \n",
    "    for _ in range(nsteps):\n",
    "        \n",
    "        # The following one line does the real magic\n",
    "        # The next value of x is calculated by subtracting the gradient * learning_rate by itself\n",
    "        # The intuition behind this line is in the previous section\n",
    "        \n",
    "        x -= df(x) * learning_rate \n",
    "        collectXs.append(x)\n",
    "        \n",
    "    # We return a tuple that contains\n",
    "    # x -> recent x after nsteps \n",
    "    # collectXs -> all the x values that were calculated so far\n",
    "    \n",
    "    return x, collectXs"
   ]
  },
  {
   "cell_type": "markdown",
   "id": "aea74a65",
   "metadata": {},
   "source": [
    "Before running a gradient descent with 1000 steps, let's just run it twice, one step at a time, to see how x evolves. \n",
    "We start with x=-10, and it evolves to x=-8. We know that when x=0 that is the **minimum point**, so yes, it is evolving in the correct direction."
   ]
  },
  {
   "cell_type": "code",
   "execution_count": 102,
   "id": "0350981e",
   "metadata": {},
   "outputs": [
    {
     "name": "stdout",
     "output_type": "stream",
     "text": [
      "-8.0\n"
     ]
    }
   ],
   "source": [
    "x=-10\n",
    "x, collectedXs = gradient_descent(x, nsteps=1)\n",
    "print(x)"
   ]
  },
  {
   "cell_type": "code",
   "execution_count": 103,
   "id": "f8e01e2d",
   "metadata": {},
   "outputs": [
    {
     "name": "stdout",
     "output_type": "stream",
     "text": [
      "-6.4\n"
     ]
    }
   ],
   "source": [
    "# The next step will start at x=-8. Let's run a gradient for 1 step\n",
    "\n",
    "x, collectedXs = gradient_descent(x, nsteps=1)\n",
    "print(x)"
   ]
  },
  {
   "cell_type": "markdown",
   "id": "93f13b32",
   "metadata": {},
   "source": [
    "It goes to x=-6.4. Excellent. Now let's run it 1000 times"
   ]
  },
  {
   "cell_type": "code",
   "execution_count": 104,
   "id": "b699d1fb",
   "metadata": {},
   "outputs": [
    {
     "name": "stdout",
     "output_type": "stream",
     "text": [
      "-7.873484301831169e-97\n",
      "[-6.4, -5.12, -4.096, -3.2768, -2.62144, -2.0971520000000003, -1.6777216000000004, -1.3421772800000003, -1.0737418240000003, -0.8589934592000003, -0.6871947673600002, -0.5497558138880001, -0.43980465111040007, -0.35184372088832006, -0.281474976710656, -0.22517998136852482, -0.18014398509481985, -0.14411518807585588, -0.11529215046068471, -0.09223372036854777, -0.07378697629483821, -0.05902958103587057, -0.04722366482869646, -0.037778931862957166, -0.030223145490365734, -0.024178516392292588, -0.01934281311383407, -0.015474250491067256, -0.012379400392853806, -0.009903520314283045, -0.007922816251426436, -0.006338253001141149, -0.00507060240091292, -0.0040564819207303355, -0.0032451855365842686, -0.002596148429267415, -0.002076918743413932, -0.0016615349947311456, -0.0013292279957849164, -0.001063382396627933, -0.0008507059173023465, -0.0006805647338418772, -0.0005444517870735017, -0.0004355614296588014, -0.0003484491437270411, -0.00027875931498163285, -0.00022300745198530628, -0.00017840596158824503, -0.00014272476927059603, -0.00011417981541647683, -9.134385233318146e-05, -7.307508186654517e-05, -5.846006549323614e-05, -4.676805239458891e-05, -3.741444191567113e-05, -2.9931553532536903e-05, -2.3945242826029522e-05, -1.9156194260823618e-05, -1.5324955408658896e-05, -1.2259964326927117e-05, -9.807971461541694e-06, -7.846377169233355e-06, -6.277101735386684e-06, -5.021681388309347e-06, -4.017345110647478e-06, -3.213876088517982e-06, -2.5711008708143856e-06, -2.0568806966515085e-06, -1.6455045573212068e-06, -1.3164036458569655e-06, -1.0531229166855724e-06, -8.424983333484579e-07, -6.739986666787663e-07, -5.391989333430131e-07, -4.313591466744105e-07, -3.450873173395284e-07, -2.760698538716227e-07, -2.2085588309729815e-07, -1.766847064778385e-07, -1.4134776518227082e-07, -1.1307821214581666e-07, -9.046256971665333e-08, -7.237005577332266e-08, -5.789604461865813e-08, -4.6316835694926504e-08, -3.7053468555941206e-08, -2.9642774844752963e-08, -2.3714219875802372e-08, -1.8971375900641896e-08, -1.5177100720513518e-08, -1.2141680576410815e-08, -9.713344461128652e-09, -7.770675568902922e-09, -6.216540455122338e-09, -4.9732323640978705e-09, -3.978585891278296e-09, -3.1828687130226367e-09, -2.5462949704181095e-09, -2.0370359763344878e-09, -1.6296287810675901e-09, -1.3037030248540722e-09, -1.0429624198832578e-09, -8.343699359066063e-10, -6.674959487252851e-10, -5.33996758980228e-10, -4.271974071841824e-10, -3.417579257473459e-10, -2.7340634059787676e-10, -2.187250724783014e-10, -1.7498005798264112e-10, -1.399840463861129e-10, -1.1198723710889032e-10, -8.958978968711226e-11, -7.16718317496898e-11, -5.733746539975184e-11, -4.5869972319801475e-11, -3.669597785584118e-11, -2.935678228467294e-11, -2.3485425827738352e-11, -1.878834066219068e-11, -1.5030672529752545e-11, -1.2024538023802037e-11, -9.61963041904163e-12, -7.695704335233304e-12, -6.156563468186643e-12, -4.9252507745493145e-12, -3.940200619639451e-12, -3.152160495711561e-12, -2.521728396569249e-12, -2.017382717255399e-12, -1.6139061738043193e-12, -1.2911249390434555e-12, -1.0328999512347643e-12, -8.263199609878115e-13, -6.610559687902492e-13, -5.288447750321994e-13, -4.230758200257595e-13, -3.384606560206076e-13, -2.707685248164861e-13, -2.1661481985318886e-13, -1.732918558825511e-13, -1.3863348470604087e-13, -1.109067877648327e-13, -8.872543021186616e-14, -7.098034416949293e-14, -5.6784275335594347e-14, -4.542742026847548e-14, -3.6341936214780386e-14, -2.9073548971824307e-14, -2.3258839177459446e-14, -1.8607071341967557e-14, -1.4885657073574046e-14, -1.1908525658859236e-14, -9.52682052708739e-15, -7.621456421669911e-15, -6.097165137335929e-15, -4.877732109868743e-15, -3.9021856878949945e-15, -3.1217485503159957e-15, -2.4973988402527965e-15, -1.997919072202237e-15, -1.5983352577617897e-15, -1.2786682062094317e-15, -1.0229345649675453e-15, -8.183476519740363e-16, -6.54678121579229e-16, -5.237424972633832e-16, -4.1899399781070657e-16, -3.351951982485653e-16, -2.6815615859885223e-16, -2.145249268790818e-16, -1.7161994150326545e-16, -1.3729595320261235e-16, -1.0983676256208988e-16, -8.78694100496719e-17, -7.029552803973752e-17, -5.623642243179001e-17, -4.498913794543201e-17, -3.599131035634561e-17, -2.879304828507649e-17, -2.303443862806119e-17, -1.8427550902448952e-17, -1.474204072195916e-17, -1.179363257756733e-17, -9.434906062053864e-18, -7.547924849643091e-18, -6.038339879714473e-18, -4.830671903771579e-18, -3.864537523017263e-18, -3.0916300184138106e-18, -2.4733040147310485e-18, -1.9786432117848388e-18, -1.582914569427871e-18, -1.2663316555422968e-18, -1.0130653244338374e-18, -8.104522595470699e-19, -6.483618076376559e-19, -5.1868944611012475e-19, -4.149515568880998e-19, -3.3196124551047986e-19, -2.6556899640838387e-19, -2.124551971267071e-19, -1.6996415770136567e-19, -1.3597132616109255e-19, -1.0877706092887405e-19, -8.702164874309923e-20, -6.961731899447939e-20, -5.569385519558352e-20, -4.455508415646681e-20, -3.564406732517345e-20, -2.851525386013876e-20, -2.2812203088111008e-20, -1.8249762470488807e-20, -1.4599809976391044e-20, -1.1679847981112835e-20, -9.343878384890268e-21, -7.475102707912214e-21, -5.9800821663297714e-21, -4.784065733063817e-21, -3.827252586451054e-21, -3.0618020691608432e-21, -2.4494416553286747e-21, -1.95955332426294e-21, -1.5676426594103519e-21, -1.2541141275282815e-21, -1.0032913020226252e-21, -8.026330416181002e-22, -6.4210643329448015e-22, -5.136851466355841e-22, -4.109481173084673e-22, -3.2875849384677386e-22, -2.630067950774191e-22, -2.1040543606193528e-22, -1.6832434884954823e-22, -1.346594790796386e-22, -1.0772758326371088e-22, -8.61820666109687e-23, -6.894565328877496e-23, -5.515652263101997e-23, -4.412521810481598e-23, -3.530017448385278e-23, -2.8240139587082227e-23, -2.259211166966578e-23, -1.8073689335732626e-23, -1.4458951468586102e-23, -1.1567161174868882e-23, -9.253728939895105e-24, -7.402983151916084e-24, -5.922386521532867e-24, -4.737909217226294e-24, -3.790327373781035e-24, -3.0322618990248282e-24, -2.4258095192198626e-24, -1.94064761537589e-24, -1.552518092300712e-24, -1.2420144738405697e-24, -9.936115790724557e-25, -7.948892632579646e-25, -6.359114106063717e-25, -5.087291284850974e-25, -4.069833027880779e-25, -3.2558664223046233e-25, -2.6046931378436986e-25, -2.083754510274959e-25, -1.6670036082199672e-25, -1.3336028865759738e-25, -1.066882309260779e-25, -8.535058474086231e-26, -6.828046779268985e-26, -5.462437423415188e-26, -4.369949938732151e-26, -3.495959950985721e-26, -2.7967679607885764e-26, -2.2374143686308611e-26, -1.789931494904689e-26, -1.431945195923751e-26, -1.1455561567390009e-26, -9.164449253912007e-27, -7.331559403129606e-27, -5.865247522503685e-27, -4.692198018002948e-27, -3.753758414402358e-27, -3.0030067315218864e-27, -2.4024053852175092e-27, -1.9219243081740073e-27, -1.537539446539206e-27, -1.2300315572313648e-27, -9.840252457850919e-28, -7.872201966280735e-28, -6.297761573024589e-28, -5.038209258419671e-28, -4.0305674067357365e-28, -3.224453925388589e-28, -2.5795631403108713e-28, -2.063650512248697e-28, -1.6509204097989575e-28, -1.320736327839166e-28, -1.0565890622713329e-28, -8.452712498170663e-29, -6.76216999853653e-29, -5.409735998829224e-29, -4.327788799063379e-29, -3.4622310392507034e-29, -2.7697848314005627e-29, -2.21582786512045e-29, -1.77266229209636e-29, -1.418129833677088e-29, -1.1345038669416704e-29, -9.076030935533364e-30, -7.260824748426691e-30, -5.808659798741353e-30, -4.646927838993082e-30, -3.717542271194466e-30, -2.9740338169555726e-30, -2.379227053564458e-30, -1.9033816428515664e-30, -1.5227053142812531e-30, -1.2181642514250024e-30, -9.74531401140002e-31, -7.796251209120016e-31, -6.2370009672960125e-31, -4.98960077383681e-31, -3.991680619069448e-31, -3.1933444952555584e-31, -2.5546755962044465e-31, -2.0437404769635572e-31, -1.6349923815708457e-31, -1.3079939052566765e-31, -1.046395124205341e-31, -8.371160993642729e-32, -6.696928794914183e-32, -5.357543035931346e-32, -4.2860344287450765e-32, -3.428827542996061e-32, -2.743062034396849e-32, -2.194449627517479e-32, -1.7555597020139832e-32, -1.4044477616111866e-32, -1.1235582092889492e-32, -8.988465674311593e-33, -7.190772539449275e-33, -5.75261803155942e-33, -4.602094425247536e-33, -3.6816755401980284e-33, -2.9453404321584227e-33, -2.356272345726738e-33, -1.8850178765813904e-33, -1.5080143012651124e-33, -1.20641144101209e-33, -9.65129152809672e-34, -7.721033222477376e-34, -6.176826577981901e-34, -4.9414612623855205e-34, -3.9531690099084164e-34, -3.1625352079267332e-34, -2.5300281663413868e-34, -2.0240225330731096e-34, -1.6192180264584877e-34, -1.2953744211667901e-34, -1.036299536933432e-34, -8.290396295467457e-35, -6.632317036373966e-35, -5.305853629099172e-35, -4.2446829032793374e-35, -3.39574632262347e-35, -2.716597058098776e-35, -2.1732776464790206e-35, -1.7386221171832164e-35, -1.390897693746573e-35, -1.1127181549972585e-35, -8.901745239978068e-36, -7.121396191982454e-36, -5.6971169535859635e-36, -4.5576935628687705e-36, -3.6461548502950164e-36, -2.9169238802360133e-36, -2.3335391041888107e-36, -1.8668312833510487e-36, -1.493465026680839e-36, -1.1947720213446712e-36, -9.55817617075737e-37, -7.646540936605896e-37, -6.117232749284717e-37, -4.893786199427773e-37, -3.915028959542219e-37, -3.132023167633775e-37, -2.5056185341070197e-37, -2.0044948272856158e-37, -1.6035958618284927e-37, -1.2828766894627942e-37, -1.0263013515702353e-37, -8.210410812561882e-38, -6.568328650049506e-38, -5.254662920039605e-38, -4.2037303360316843e-38, -3.3629842688253476e-38, -2.690387415060278e-38, -2.1523099320482225e-38, -1.721847945638578e-38, -1.3774783565108623e-38, -1.1019826852086898e-38, -8.815861481669518e-39, -7.052689185335615e-39, -5.6421513482684915e-39, -4.5137210786147934e-39, -3.610976862891835e-39, -2.888781490313468e-39, -2.3110251922507742e-39, -1.8488201538006194e-39, -1.4790561230404956e-39, -1.1832448984323965e-39, -9.465959187459173e-40, -7.572767349967338e-40, -6.058213879973871e-40, -4.846571103979097e-40, -3.877256883183278e-40, -3.101805506546622e-40, -2.4814444052372976e-40, -1.985155524189838e-40, -1.5881244193518706e-40, -1.2704995354814965e-40, -1.0163996283851972e-40, -8.131197027081578e-41, -6.504957621665262e-41, -5.20396609733221e-41, -4.1631728778657675e-41, -3.330538302292614e-41, -2.664430641834091e-41, -2.1315445134672728e-41, -1.7052356107738182e-41, -1.3641884886190545e-41, -1.0913507908952436e-41, -8.730806327161949e-42, -6.984645061729559e-42, -5.587716049383647e-42, -4.470172839506918e-42, -3.576138271605534e-42, -2.8609106172844275e-42, -2.288728493827542e-42, -1.8309827950620335e-42, -1.4647862360496267e-42, -1.1718289888397014e-42, -9.374631910717611e-43, -7.49970552857409e-43, -5.9997644228592715e-43, -4.799811538287417e-43, -3.839849230629934e-43, -3.071879384503947e-43, -2.4575035076031575e-43, -1.966002806082526e-43, -1.5728022448660208e-43, -1.2582417958928165e-43, -1.0065934367142533e-43, -8.052747493714027e-44, -6.442197994971222e-44, -5.153758395976978e-44, -4.123006716781582e-44, -3.2984053734252656e-44, -2.6387242987402126e-44, -2.1109794389921702e-44, -1.6887835511937362e-44, -1.351026840954989e-44, -1.0808214727639912e-44, -8.64657178211193e-45, -6.917257425689543e-45, -5.5338059405516347e-45, -4.427044752441308e-45, -3.5416358019530464e-45, -2.833308641562437e-45, -2.2666469132499495e-45, -1.8133175305999597e-45, -1.450654024479968e-45, -1.1605232195839744e-45, -9.284185756671795e-46, -7.427348605337435e-46, -5.941878884269949e-46, -4.753503107415959e-46, -3.802802485932767e-46, -3.0422419887462138e-46, -2.433793590996971e-46, -1.947034872797577e-46, -1.5576278982380614e-46, -1.246102318590449e-46, -9.968818548723592e-47, -7.975054838978874e-47, -6.380043871183099e-47, -5.10403509694648e-47, -4.0832280775571837e-47, -3.266582462045747e-47, -2.6132659696365975e-47, -2.090612775709278e-47, -1.6724902205674222e-47, -1.3379921764539378e-47, -1.0703937411631503e-47, -8.563149929305202e-48, -6.850519943444162e-48, -5.48041595475533e-48, -4.384332763804264e-48, -3.507466211043411e-48, -2.805972968834729e-48, -2.2447783750677833e-48, -1.7958227000542265e-48, -1.4366581600433813e-48, -1.149326528034705e-48, -9.19461222427764e-49, -7.355689779422112e-49, -5.88455182353769e-49, -4.707641458830152e-49, -3.7661131670641215e-49, -3.012890533651297e-49, -2.4103124269210376e-49, -1.92824994153683e-49, -1.5425999532294641e-49, -1.2340799625835713e-49, -9.87263970066857e-50, -7.8981117605348565e-50, -6.318489408427885e-50, -5.054791526742308e-50, -4.043833221393846e-50, -3.2350665771150766e-50, -2.588053261692061e-50, -2.0704426093536488e-50, -1.656354087482919e-50, -1.3250832699863353e-50, -1.0600666159890682e-50, -8.480532927912545e-51, -6.784426342330036e-51, -5.427541073864029e-51, -4.3420328590912234e-51, -3.473626287272979e-51, -2.778901029818383e-51, -2.2231208238547065e-51, -1.7784966590837652e-51, -1.422797327267012e-51, -1.1382378618136097e-51, -9.105902894508877e-52, -7.284722315607101e-52, -5.827777852485681e-52, -4.662222281988545e-52, -3.729777825590836e-52, -2.983822260472669e-52, -2.3870578083781353e-52, -1.9096462467025084e-52, -1.5277169973620067e-52, -1.2221735978896053e-52, -9.777388783116842e-53, -7.821911026493473e-53, -6.257528821194779e-53, -5.006023056955823e-53, -4.0048184455646587e-53, -3.203854756451727e-53, -2.563083805161382e-53, -2.0504670441291054e-53, -1.6403736353032844e-53, -1.3122989082426276e-53, -1.049839126594102e-53, -8.398713012752816e-54, -6.718970410202253e-54, -5.375176328161803e-54, -4.3001410625294423e-54, -3.4401128500235536e-54, -2.752090280018843e-54, -2.2016722240150742e-54, -1.7613377792120595e-54, -1.4090702233696475e-54, -1.1272561786957179e-54, -9.018049429565744e-55, -7.214439543652595e-55, -5.771551634922076e-55, -4.617241307937661e-55, -3.693793046350129e-55, -2.9550344370801032e-55, -2.3640275496640826e-55, -1.8912220397312662e-55, -1.512977631785013e-55, -1.2103821054280105e-55, -9.683056843424084e-56, -7.746445474739267e-56, -6.197156379791414e-56, -4.957725103833131e-56, -3.9661800830665047e-56, -3.1729440664532036e-56, -2.538355253162563e-56, -2.0306842025300504e-56, -1.6245473620240402e-56, -1.2996378896192323e-56, -1.0397103116953859e-56, -8.317682493563087e-57, -6.654145994850469e-57, -5.323316795880376e-57, -4.258653436704301e-57, -3.4069227493634405e-57, -2.725538199490752e-57, -2.1804305595926018e-57, -1.7443444476740816e-57, -1.3954755581392653e-57, -1.1163804465114122e-57, -8.931043572091297e-58, -7.144834857673038e-58, -5.71586788613843e-58, -4.572694308910744e-58, -3.658155447128596e-58, -2.9265243577028765e-58, -2.341219486162301e-58, -1.8729755889298408e-58, -1.4983804711438727e-58, -1.198704376915098e-58, -9.589635015320784e-59, -7.671708012256627e-59, -6.137366409805301e-59, -4.909893127844241e-59, -3.927914502275393e-59, -3.1423316018203144e-59, -2.5138652814562514e-59, -2.011092225165001e-59, -1.6088737801320008e-59, -1.2870990241056007e-59, -1.0296792192844806e-59, -8.237433754275844e-60, -6.589947003420675e-60, -5.271957602736541e-60, -4.217566082189233e-60, -3.374052865751386e-60, -2.699242292601109e-60, -2.1593938340808872e-60, -1.7275150672647097e-60, -1.3820120538117678e-60, -1.1056096430494142e-60, -8.844877144395314e-61, -7.075901715516251e-61, -5.660721372413001e-61, -4.528577097930401e-61, -3.622861678344321e-61, -2.8982893426754565e-61, -2.318631474140365e-61, -1.854905179312292e-61, -1.4839241434498337e-61, -1.187139314759867e-61, -9.497114518078936e-62, -7.597691614463149e-62, -6.078153291570519e-62, -4.8625226332564155e-62, -3.890018106605133e-62, -3.112014485284106e-62, -2.489611588227285e-62, -1.991689270581828e-62, -1.5933514164654625e-62, -1.27468113317237e-62, -1.019744906537896e-62, -8.157959252303168e-63, -6.526367401842535e-63, -5.221093921474028e-63, -4.176875137179222e-63, -3.341500109743378e-63, -2.673200087794702e-63, -2.1385600702357616e-63, -1.7108480561886093e-63, -1.3686784449508874e-63, -1.0949427559607099e-63, -8.759542047685679e-64, -7.007633638148543e-64, -5.6061069105188344e-64, -4.484885528415067e-64, -3.587908422732054e-64, -2.870326738185643e-64, -2.2962613905485143e-64, -1.8370091124388116e-64, -1.4696072899510492e-64, -1.1756858319608394e-64, -9.405486655686716e-65, -7.5243893245493725e-65, -6.019511459639498e-65, -4.815609167711599e-65, -3.852487334169279e-65, -3.0819898673354235e-65, -2.465591893868339e-65, -1.972473515094671e-65, -1.5779788120757368e-65, -1.2623830496605895e-65, -1.0099064397284716e-65, -8.079251517827773e-66, -6.463401214262218e-66, -5.170720971409775e-66, -4.13657677712782e-66, -3.309261421702256e-66, -2.6474091373618045e-66, -2.1179273098894437e-66, -1.6943418479115548e-66, -1.355473478329244e-66, -1.0843787826633952e-66, -8.675030261307161e-67, -6.940024209045729e-67, -5.552019367236583e-67, -4.4416154937892666e-67, -3.553292395031413e-67, -2.8426339160251306e-67, -2.2741071328201044e-67, -1.8192857062560834e-67, -1.4554285650048668e-67, -1.1643428520038935e-67, -9.314742816031147e-68, -7.451794252824917e-68, -5.961435402259934e-68, -4.7691483218079466e-68, -3.815318657446357e-68, -3.0522549259570855e-68, -2.4418039407656684e-68, -1.953443152612535e-68, -1.562754522090028e-68, -1.2502036176720223e-68, -1.0001628941376178e-68, -8.001303153100943e-69, -6.401042522480755e-69, -5.120834017984604e-69, -4.0966672143876833e-69, -3.2773337715101465e-69, -2.6218670172081174e-69, -2.097493613766494e-69, -1.6779948910131952e-69, -1.3423959128105561e-69, -1.0739167302484449e-69, -8.591333841987559e-70, -6.873067073590047e-70, -5.498453658872037e-70, -4.3987629270976296e-70, -3.519010341678104e-70, -2.815208273342483e-70, -2.2521666186739862e-70, -1.801733294939189e-70, -1.4413866359513511e-70, -1.153109308761081e-70, -9.224874470088647e-71, -7.379899576070918e-71, -5.903919660856735e-71, -4.723135728685387e-71, -3.77850858294831e-71, -3.0228068663586483e-71, -2.418245493086919e-71, -1.934596394469535e-71, -1.547677115575628e-71, -1.2381416924605024e-71, -9.905133539684019e-72, -7.924106831747215e-72, -6.339285465397772e-72, -5.071428372318218e-72, -4.057142697854574e-72, -3.2457141582836594e-72, -2.5965713266269274e-72, -2.077257061301542e-72, -1.6618056490412334e-72, -1.3294445192329866e-72, -1.0635556153863892e-72, -8.508444923091114e-73, -6.806755938472892e-73, -5.4454047507783133e-73, -4.3563238006226507e-73, -3.4850590404981204e-73, -2.7880472323984963e-73, -2.230437785918797e-73, -1.7843502287350377e-73, -1.42748018298803e-73, -1.1419841463904241e-73, -9.135873171123393e-74, -7.308698536898715e-74, -5.846958829518972e-74, -4.677567063615178e-74, -3.742053650892143e-74, -2.993642920713714e-74, -2.3949143365709712e-74, -1.915931469256777e-74, -1.5327451754054215e-74, -1.2261961403243372e-74, -9.809569122594699e-75, -7.847655298075759e-75, -6.278124238460607e-75, -5.022499390768486e-75, -4.0179995126147885e-75, -3.214399610091831e-75, -2.5715196880734646e-75, -2.0572157504587717e-75, -1.6457726003670173e-75, -1.3166180802936139e-75, -1.0532944642348911e-75, -8.426355713879128e-76, -6.741084571103302e-76, -5.3928676568826414e-76, -4.314294125506113e-76, -3.4514353004048904e-76, -2.7611482403239122e-76, -2.2089185922591298e-76, -1.7671348738073038e-76, -1.413707899045843e-76, -1.1309663192366744e-76, -9.047730553893396e-77, -7.238184443114717e-77, -5.790547554491773e-77, -4.6324380435934185e-77, -3.705950434874735e-77, -2.9647603478997878e-77, -2.37180827831983e-77, -1.897446622655864e-77, -1.517957298124691e-77, -1.214365838499753e-77, -9.714926707998022e-78, -7.771941366398418e-78, -6.217553093118734e-78, -4.974042474494987e-78, -3.97923397959599e-78, -3.183387183676792e-78, -2.5467097469414338e-78, -2.037367797553147e-78, -1.6298942380425176e-78, -1.303915390434014e-78, -1.0431323123472112e-78, -8.345058498777689e-79, -6.676046799022151e-79, -5.340837439217721e-79, -4.2726699513741766e-79, -3.4181359610993415e-79, -2.7345087688794735e-79, -2.1876070151035787e-79, -1.750085612082863e-79, -1.4000684896662902e-79, -1.1200547917330321e-79, -8.960438333864257e-80, -7.168350667091405e-80, -5.7346805336731245e-80, -4.5877444269384996e-80, -3.6701955415508e-80, -2.9361564332406397e-80, -2.348925146592512e-80, -1.8791401172740096e-80, -1.5033120938192076e-80, -1.2026496750553661e-80, -9.621197400442928e-81, -7.696957920354342e-81, -6.157566336283474e-81, -4.926053069026779e-81, -3.9408424552214234e-81, -3.1526739641771387e-81, -2.522139171341711e-81, -2.017711337073369e-81, -1.614169069658695e-81, -1.291335255726956e-81, -1.0330682045815647e-81, -8.264545636652518e-82, -6.611636509322015e-82, -5.289309207457612e-82, -4.2314473659660895e-82, -3.3851578927728716e-82, -2.708126314218297e-82, -2.166501051374638e-82, -1.7332008410997104e-82, -1.3865606728797682e-82, -1.1092485383038145e-82, -8.873988306430516e-83, -7.099190645144413e-83, -5.679352516115531e-83, -4.543482012892424e-83, -3.634785610313939e-83, -2.9078284882511514e-83, -2.3262627906009212e-83, -1.861010232480737e-83, -1.4888081859845896e-83, -1.1910465487876717e-83, -9.528372390301374e-84, -7.622697912241099e-84, -6.098158329792879e-84, -4.878526663834303e-84, -3.902821331067442e-84, -3.122257064853954e-84, -2.497805651883163e-84, -1.9982445215065304e-84, -1.5985956172052242e-84, -1.2788764937641794e-84, -1.0231011950113435e-84, -8.184809560090749e-85, -6.547847648072599e-85, -5.238278118458079e-85, -4.190622494766463e-85, -3.3524979958131707e-85, -2.681998396650537e-85, -2.1455987173204294e-85, -1.7164789738563436e-85, -1.373183179085075e-85, -1.09854654326806e-85, -8.78837234614448e-86, -7.030697876915584e-86, -5.624558301532467e-86, -4.499646641225974e-86, -3.599717312980779e-86, -2.8797738503846236e-86, -2.3038190803076988e-86, -1.843055264246159e-86, -1.4744442113969273e-86, -1.179555369117542e-86, -9.436442952940335e-87, -7.549154362352268e-87, -6.039323489881814e-87, -4.831458791905451e-87, -3.865167033524361e-87, -3.0921336268194885e-87, -2.4737069014555907e-87, -1.9789655211644725e-87, -1.583172416931578e-87, -1.2665379335452626e-87, -1.01323034683621e-87, -8.10584277468968e-88, -6.484674219751745e-88, -5.187739375801396e-88, -4.150191500641117e-88, -3.3201532005128937e-88, -2.656122560410315e-88, -2.124898048328252e-88, -1.6999184386626014e-88, -1.3599347509300813e-88, -1.087947800744065e-88, -8.70358240595252e-89, -6.962865924762016e-89, -5.5702927398096124e-89, -4.45623419184769e-89, -3.564987353478152e-89, -2.8519898827825218e-89, -2.2815919062260174e-89, -1.825273524980814e-89, -1.4602188199846512e-89, -1.168175055987721e-89, -9.345400447901768e-90, -7.476320358321415e-90, -5.981056286657132e-90, -4.784845029325705e-90, -3.827876023460564e-90, -3.0623008187684514e-90, -2.449840655014761e-90, -1.959872524011809e-90, -1.567898019209447e-90, -1.2543184153675576e-90, -1.0034547322940461e-90, -8.027637858352369e-91, -6.422110286681895e-91, -5.137688229345516e-91, -4.110150583476413e-91, -3.28812046678113e-91, -2.630496373424904e-91, -2.1043970987399234e-91, -1.6835176789919386e-91, -1.346814143193551e-91, -1.0774513145548408e-91, -8.619610516438726e-92, -6.895688413150981e-92, -5.5165507305207846e-92, -4.413240584416628e-92, -3.530592467533302e-92, -2.8244739740266416e-92, -2.2595791792213134e-92, -1.807663343377051e-92, -1.4461306747016407e-92, -1.1569045397613125e-92, -9.2552363180905e-93, -7.4041890544724e-93, -5.9233512435779195e-93, -4.738680994862336e-93, -3.7909447958898686e-93, -3.0327558367118948e-93, -2.426204669369516e-93, -1.940963735495613e-93, -1.5527709883964902e-93, -1.2422167907171923e-93, -9.937734325737538e-94, -7.95018746059003e-94, -6.360149968472025e-94, -5.08811997477762e-94, -4.070495979822096e-94, -3.256396783857677e-94, -2.6051174270861415e-94, -2.0840939416689133e-94, -1.6672751533351305e-94, -1.3338201226681045e-94, -1.0670560981344836e-94, -8.536448785075869e-95, -6.829159028060695e-95, -5.4633272224485563e-95, -4.3706617779588453e-95, -3.496529422367076e-95, -2.7972235378936608e-95, -2.2377788303149285e-95, -1.7902230642519428e-95, -1.4321784514015543e-95, -1.1457427611212435e-95, -9.165942088969949e-96, -7.332753671175959e-96, -5.866202936940768e-96, -4.692962349552614e-96, -3.754369879642091e-96, -3.003495903713673e-96, -2.4027967229709382e-96, -1.9222373783767506e-96, -1.5377899027014004e-96, -1.2302319221611203e-96, -9.841855377288961e-97, -7.873484301831169e-97]\n"
     ]
    }
   ],
   "source": [
    "x, collectedXs = gradient_descent(x, nsteps=1000)\n",
    "print(x)\n",
    "print(collectedXs)"
   ]
  },
  {
   "cell_type": "code",
   "execution_count": 105,
   "id": "0b76ee22",
   "metadata": {},
   "outputs": [
    {
     "data": {
      "image/png": "[encoded data removed]",
      "text/plain": [
       "<Figure size 640x480 with 1 Axes>"
      ]
     },
     "metadata": {},
     "output_type": "display_data"
    }
   ],
   "source": [
    "visualize(f, x=collectedXs)"
   ]
  },
  {
   "cell_type": "markdown",
   "id": "d00d2fbb",
   "metadata": {},
   "source": [
    "### Exercise 3\n",
    "\n",
    "When I arrive to the coffee machine, I hear my colleague talking about the per-unit costs of producing 'product B' for the company. As the company produces more units, the per-unit costs continue to decrease until a point where they start to increase.\n",
    "\n",
    "To optimize the per-unit production cost at its minimum to optimize efficiency, the company would need to find the number of units to be produced where the per-unit production costs begin to change from decreasing to increasing.\n",
    "\n",
    "**Build a quadratic function $f(x)=0.1(x)^2−9x +4500$ on $x∈[0,100]$ to create the per-unit cost function, and make a conclusion.**"
   ]
  },
  {
   "cell_type": "code",
   "execution_count": 106,
   "id": "7c67d8b7",
   "metadata": {},
   "outputs": [
    {
     "data": {
      "text/plain": [
       "<Axes: >"
      ]
     },
     "execution_count": 106,
     "metadata": {},
     "output_type": "execute_result"
    },
    {
     "data": {
      "image/png": "[encoded data removed]",
      "text/plain": [
       "<Figure size 640x480 with 1 Axes>"
      ]
     },
     "metadata": {},
     "output_type": "display_data"
    }
   ],
   "source": [
    "# Define and plot the function\n",
    "x_array = np.linspace(0,100,1000)\n",
    "\n",
    "def f(x):\n",
    "    y = (0.1 * x**2) - (9 * x) + 4500\n",
    "    return y\n",
    "\n",
    "sns.lineplot(x=x_array, y=f(x_array))"
   ]
  },
  {
   "cell_type": "markdown",
   "id": "fbe54895",
   "metadata": {},
   "source": [
    "We saw with Gradient Descent how the red dot navigates in an environment it does not know about. It only knows the coordinates of where it is and its gradient. The red dot could find the minimum point by using only this knowledge and the gradient descent algorithm.\n",
    "\n",
    "**Optional:**\n",
    "\n",
    "Implement all the previous steps to create a gradient descent algorithm to see how the per-unit cost evolves, with a starting point of 0 units of production."
   ]
  },
  {
   "cell_type": "code",
   "execution_count": 107,
   "id": "2ed21da5",
   "metadata": {},
   "outputs": [],
   "source": [
    "# define derivative function\n",
    "def df(x):\n",
    "    dy = 0.2*x - 9\n",
    "    return dy"
   ]
  },
  {
   "cell_type": "code",
   "execution_count": 135,
   "id": "7d9fadf0",
   "metadata": {},
   "outputs": [],
   "source": [
    "# define gradient descent function\n",
    "def gradient_descent(x, nsteps):\n",
    "    collected_Xs = [x]\n",
    "    learning_rate = 0.5\n",
    "    for _ in range(nsteps):\n",
    "        x -= df(x) * learning_rate \n",
    "        collected_Xs.append(x)    \n",
    "    return x, collected_Xs"
   ]
  },
  {
   "cell_type": "code",
   "execution_count": 139,
   "id": "1d08f460",
   "metadata": {},
   "outputs": [
    {
     "data": {
      "text/plain": [
       "(44.99880473705005,\n",
       " [0,\n",
       "  4.5,\n",
       "  8.55,\n",
       "  12.195,\n",
       "  15.4755,\n",
       "  18.42795,\n",
       "  21.085155,\n",
       "  23.4766395,\n",
       "  25.62897555,\n",
       "  27.566077995,\n",
       "  29.3094701955,\n",
       "  30.87852317595,\n",
       "  32.290670858355,\n",
       "  33.5616037725195,\n",
       "  34.70544339526755,\n",
       "  35.7348990557408,\n",
       "  36.66140915016672,\n",
       "  37.49526823515005,\n",
       "  38.245741411635045,\n",
       "  38.92116727047154,\n",
       "  39.52905054342439,\n",
       "  40.07614548908195,\n",
       "  40.56853094017376,\n",
       "  41.01167784615638,\n",
       "  41.41051006154074,\n",
       "  41.76945905538667,\n",
       "  42.092513149848,\n",
       "  42.383261834863205,\n",
       "  42.64493565137688,\n",
       "  42.88044208623919,\n",
       "  43.09239787761527,\n",
       "  43.28315808985374,\n",
       "  43.45484228086837,\n",
       "  43.60935805278153,\n",
       "  43.74842224750338,\n",
       "  43.87358002275304,\n",
       "  43.98622202047773,\n",
       "  44.08759981842996,\n",
       "  44.17883983658696,\n",
       "  44.26095585292826,\n",
       "  44.334860267635435,\n",
       "  44.40137424087189,\n",
       "  44.4612368167847,\n",
       "  44.515113135106226,\n",
       "  44.563601821595604,\n",
       "  44.60724163943604,\n",
       "  44.64651747549244,\n",
       "  44.68186572794319,\n",
       "  44.713679155148874,\n",
       "  44.742311239633985,\n",
       "  44.768080115670585,\n",
       "  44.79127210410353,\n",
       "  44.81214489369317,\n",
       "  44.83093040432386,\n",
       "  44.84783736389147,\n",
       "  44.863053627502325,\n",
       "  44.876748264752095,\n",
       "  44.88907343827689,\n",
       "  44.9001660944492,\n",
       "  44.910149485004276,\n",
       "  44.91913453650385,\n",
       "  44.927221082853464,\n",
       "  44.934498974568115,\n",
       "  44.9410490771113,\n",
       "  44.94694416940017,\n",
       "  44.952249752460155,\n",
       "  44.95702477721414,\n",
       "  44.96132229949272,\n",
       "  44.965190069543446,\n",
       "  44.9686710625891,\n",
       "  44.97180395633019,\n",
       "  44.974623560697175,\n",
       "  44.97716120462746,\n",
       "  44.97944508416471,\n",
       "  44.981500575748235,\n",
       "  44.98335051817341,\n",
       "  44.98501546635607,\n",
       "  44.98651391972046,\n",
       "  44.98786252774841,\n",
       "  44.98907627497357,\n",
       "  44.99016864747621,\n",
       "  44.991151782728586,\n",
       "  44.99203660445573,\n",
       "  44.99283294401015,\n",
       "  44.993549649609136,\n",
       "  44.99419468464822,\n",
       "  44.9947752161834,\n",
       "  44.99529769456506,\n",
       "  44.99576792510855,\n",
       "  44.996191132597694,\n",
       "  44.996572019337925,\n",
       "  44.99691481740413,\n",
       "  44.99722333566372,\n",
       "  44.997501002097344,\n",
       "  44.99775090188761,\n",
       "  44.99797581169885,\n",
       "  44.998178230528964,\n",
       "  44.99836040747607,\n",
       "  44.99852436672846,\n",
       "  44.998671930055615,\n",
       "  44.99880473705005])"
      ]
     },
     "execution_count": 139,
     "metadata": {},
     "output_type": "execute_result"
    }
   ],
   "source": [
    "# determine final value of x and collected Xs\n",
    "x, collected_Xs = gradient_descent(0, 100)\n",
    "x, collected_Xs"
   ]
  },
  {
   "cell_type": "code",
   "execution_count": 144,
   "id": "fd0ff6c2",
   "metadata": {},
   "outputs": [
    {
     "data": {
      "text/plain": [
       "<Axes: >"
      ]
     },
     "execution_count": 144,
     "metadata": {},
     "output_type": "execute_result"
    },
    {
     "data": {
      "image/png": "[encoded data removed]",
      "text/plain": [
       "<Figure size 640x480 with 1 Axes>"
      ]
     },
     "metadata": {},
     "output_type": "display_data"
    }
   ],
   "source": [
    "#plot function curve and collected Xs value after applying gradient descent function\n",
    "sns.lineplot(x=x_array, y=f(x_array))\n",
    "y = f(np.array(collected_Xs))\n",
    "sns.scatterplot(x=collected_Xs, y=y, color='red')"
   ]
  },
  {
   "cell_type": "markdown",
   "id": "aabad82c",
   "metadata": {},
   "source": [
    "## Linear Algebra"
   ]
  },
  {
   "cell_type": "markdown",
   "id": "6753636d",
   "metadata": {},
   "source": [
    "### Exercise 1: Sum of two matrices\n",
    "\n",
    "Suppose we have two matrices A and B.\n",
    "\n",
    "```py\n",
    "A = [[1,2],[3,4]]\n",
    "B = [[4,5],[6,7]]\n",
    "\n",
    "then we get\n",
    "A+B = [[5,7],[9,11]]\n",
    "A-B = [[-3,-3],[-3,-3]]\n",
    "```\n",
    "\n",
    "Make the sum of two matrices using Python with NumPy"
   ]
  },
  {
   "cell_type": "code",
   "execution_count": 148,
   "id": "9e200c32",
   "metadata": {},
   "outputs": [
    {
     "name": "stdout",
     "output_type": "stream",
     "text": [
      "[[1 2]\n",
      " [3 4]] [[4 5]\n",
      " [6 7]]\n",
      "[[ 5  7]\n",
      " [ 9 11]]\n"
     ]
    }
   ],
   "source": [
    "# import numpy as np\n",
    "import numpy as np\n",
    " \n",
    " \n",
    "# Creating first matrix\n",
    "A = np.array([[1,2],[3,4]])\n",
    " \n",
    "# Creating second matrix\n",
    "B = np.array([[4,5],[6,7]])\n",
    " \n",
    "# Print elements\n",
    "print(A,B)\n",
    " \n",
    "# Adding both matrices\n",
    "print(A+B)"
   ]
  },
  {
   "cell_type": "markdown",
   "id": "93bfb6cc",
   "metadata": {},
   "source": [
    "### Exercise 2: Sum of two lists\n",
    "\n",
    "There will be many situations in which we'll have to find an index-wise summation of two different lists. This can have possible applications in day-to-day programming. In this exercise, we will solve the same problem in various ways in which this task can be performed.\n",
    "\n",
    "We have the following two lists:\n",
    "\n",
    "```py\n",
    "list1 = [2, 5, 4, 7, 3]\n",
    "list2 = [1, 4, 6, 9, 10]\n",
    "```\n",
    "\n",
    "Now let's use Python code to demonstrate addition of two lists."
   ]
  },
  {
   "cell_type": "code",
   "execution_count": 5,
   "id": "867b70fc",
   "metadata": {},
   "outputs": [
    {
     "name": "stdout",
     "output_type": "stream",
     "text": [
      "Original list 1 : [2, 5, 4, 7, 3]\n",
      "Original list 2 : [1, 4, 6, 9, 10]\n",
      "Resulting list is : [3, 9, 10, 16, 13]\n"
     ]
    }
   ],
   "source": [
    "# Naive method\n",
    "\n",
    "# Initializing lists\n",
    "list1 = [2, 5, 4, 7, 3]\n",
    "list2 = [1, 4, 6, 9, 10]\n",
    " \n",
    "# Printing original lists\n",
    "print (\"Original list 1 : \" + str(list1))\n",
    "print (\"Original list 2 : \" + str(list2))\n",
    " \n",
    "# Using naive method to add two lists \n",
    "res_list = []\n",
    "for i in range(0, len(list1)):\n",
    "    res_list.append(list1[i] + list2[i])\n",
    " \n",
    "# Printing resulting list \n",
    "print (\"Resulting list is : \" + str(res_list))"
   ]
  },
  {
   "cell_type": "markdown",
   "id": "7a063d7f",
   "metadata": {},
   "source": [
    "Now use the following three different methods to make the same calculation: sum of two lists"
   ]
  },
  {
   "cell_type": "code",
   "execution_count": 20,
   "id": "681930a3",
   "metadata": {},
   "outputs": [
    {
     "name": "stdout",
     "output_type": "stream",
     "text": [
      "[2, 4, 6, 8, 10] [1, 3, 5, 7, 9]\n",
      "[3, 7, 11, 15, 19]\n"
     ]
    }
   ],
   "source": [
    "# Use list comprehension to perform addition of the two lists:\n",
    "\n",
    "# Initializing lists\n",
    "list_1 = [2, 4, 6, 8, 10]\n",
    "list_2 = [1, 3, 5, 7, 9]\n",
    " \n",
    "# Printing original lists\n",
    "print(list_1, list_2)\n",
    " \n",
    "# Using list comprehension to add two lists\n",
    "lc_sum = [list_1[i]+ list_2[i] for i in range(len(list_1))]\n",
    " \n",
    "# Printing resulting list \n",
    "print(lc_sum)"
   ]
  },
  {
   "cell_type": "code",
   "execution_count": 21,
   "id": "a3a8a425",
   "metadata": {},
   "outputs": [
    {
     "name": "stdout",
     "output_type": "stream",
     "text": [
      "[0.1, 0.2, 0.3, 0.4] [0.9, 0.8, 0.7, 0.6]\n",
      "[1.0, 1.0, 1.0, 1.0]\n"
     ]
    }
   ],
   "source": [
    "# Use map() + add():\n",
    "\n",
    "\n",
    "# Initializing lists\n",
    "list_3 = [0.1, 0.2, 0.3, 0.4]\n",
    "list_4 = [0.9, 0.8, 0.7, 0.6]\n",
    " \n",
    "# Printing original lists\n",
    "print(list_3, list_4)\n",
    " \n",
    "# Using map() + add() to add two lists\n",
    "def add(a, b):\n",
    "    c = a + b\n",
    "    return c\n",
    " \n",
    "# Printing resulting list \n",
    "map_sum = list(map(add, list_3, list_4))\n",
    "print(map_sum)"
   ]
  },
  {
   "cell_type": "code",
   "execution_count": 37,
   "id": "1708d7ee",
   "metadata": {},
   "outputs": [
    {
     "name": "stdout",
     "output_type": "stream",
     "text": [
      "[10, 20, 30, 40, 50] [100, 200, 300, 400, 500]\n",
      "[110, 220, 330, 440, 550]\n"
     ]
    }
   ],
   "source": [
    "# Use zip() + sum():\n",
    "\n",
    "# Initializing lists\n",
    "list_5 = [10, 20, 30, 40, 50]\n",
    "list_6 = [100, 200, 300, 400, 500]\n",
    " \n",
    "# Printing original lists\n",
    "print(list_5, list_6)\n",
    " \n",
    "# Using zip() + sum() to add two lists\n",
    "zipped = list(map(sum, zip(list_5, list_6)))\n",
    " \n",
    "# Printing resulting list \n",
    "print(zipped)"
   ]
  },
  {
   "cell_type": "markdown",
   "id": "1aef1bd2",
   "metadata": {},
   "source": [
    "### Exercise 3: Dot multiplication\n",
    "\n",
    "We have two matrices:\n",
    "\n",
    "```py\n",
    "matrix1 = [[1,7,3],\n",
    " [4,5,2],\n",
    " [3,6,1]]\n",
    "matrix2 = [[5,4,1],\n",
    " [1,2,3],\n",
    " [4,5,2]]\n",
    "```\n",
    "\n",
    "A simple technique but expensive method for larger input datasets is using *for loops*. In this exercise, we will first use nested *for loops* to iterate through each row and column of the matrices, and then we will perform the same multiplication using NumPy."
   ]
  },
  {
   "cell_type": "code",
   "execution_count": 66,
   "id": "840e7d0e",
   "metadata": {},
   "outputs": [
    {
     "name": "stdout",
     "output_type": "stream",
     "text": [
      "[[24, 33, 28], [33, 36, 23], [25, 29, 23]]\n"
     ]
    }
   ],
   "source": [
    "# Using a for loop input two matrices of size n x m\n",
    "matrix1 = [[1,7,3],\n",
    " [4,5,2],\n",
    " [3,6,1]]\n",
    "matrix2 = [[5,4,1],\n",
    " [1,2,3],\n",
    " [4,5,2]]\n",
    " \n",
    "res = [[0 for x in range(3)] for y in range(3)]\n",
    " \n",
    "# Explicit for loops\n",
    "for i in range(len(matrix1)):\n",
    "    for j in range(len(matrix2[0])):\n",
    "        for k in range(len(matrix2)):\n",
    " \n",
    "            # Resulting matrix\n",
    "            res[i][j] += matrix1[i][k] * matrix2[k][j]\n",
    " \n",
    "print(res)"
   ]
  },
  {
   "cell_type": "code",
   "execution_count": 2,
   "id": "db6c3355",
   "metadata": {},
   "outputs": [
    {
     "name": "stdout",
     "output_type": "stream",
     "text": [
      "[[24 33 28]\n",
      " [33 36 23]\n",
      " [25 29 23]]\n"
     ]
    }
   ],
   "source": [
    "# Import libraries\n",
    "import numpy as np\n",
    " \n",
    "# Input two matrices\n",
    "matrix1 = [[1,7,3],\n",
    " [4,5,2],\n",
    " [3,6,1]]\n",
    "matrix2 = [[5,4,1],\n",
    " [1,2,3],\n",
    " [4,5,2]]\n",
    " \n",
    "# This will return dot product\n",
    "dot_product = np.dot(matrix1, matrix2)\n",
    " \n",
    "# Print resulting matrix\n",
    "print(dot_product)\n"
   ]
  },
  {
   "cell_type": "markdown",
   "id": "785f6c30",
   "metadata": {},
   "source": [
    "Source:\n",
    "\n",
    "https://www.youtube.com/channel/UCXq-PLvYAX-EufF5RAPihVg\n",
    "\n",
    "https://www.geeksforgeeks.org/\n",
    "\n",
    "https://medium.com/@seehleung/basic-calculus-explained-for-machine-learning-c7f642e7ced3\n",
    "\n",
    "https://blog.demir.io/understanding-gradient-descent-266fc3dcf02f"
   ]
  }
 ],
 "metadata": {
  "kernelspec": {
   "display_name": "Python 3",
   "language": "python",
   "name": "python3"
  },
  "language_info": {
   "codemirror_mode": {
    "name": "ipython",
    "version": 3
   },
   "file_extension": ".py",
   "mimetype": "text/x-python",
   "name": "python",
   "nbconvert_exporter": "python",
   "pygments_lexer": "ipython3",
   "version": "3.11.4"
  }
 },
 "nbformat": 4,
 "nbformat_minor": 5
}
